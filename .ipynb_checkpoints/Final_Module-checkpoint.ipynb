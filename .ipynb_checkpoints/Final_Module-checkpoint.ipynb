{
 "cells": [
  {
   "cell_type": "code",
   "execution_count": null,
   "metadata": {},
   "outputs": [
    {
     "name": "stdout",
     "output_type": "stream",
     "text": [
      "importing Jupyter notebook from Content_based_filtering.ipynb\n",
      "0\n",
      "importing Jupyter notebook from CF_surprise_SVD.ipynb\n"
     ]
    }
   ],
   "source": [
    "import import_ipynb\n",
    "import Content_based_filtering\n",
    "import CF_surprise_SVD"
   ]
  },
  {
   "cell_type": "code",
   "execution_count": 7,
   "metadata": {},
   "outputs": [
    {
     "data": {
      "application/vnd.jupyter.widget-view+json": {
       "model_id": "e069119a4be24841b6281c51db7e6b7f"
      }
     },
     "metadata": {},
     "output_type": "display_data"
    },
    {
     "data": {
      "application/vnd.jupyter.widget-view+json": {
       "model_id": "1a13312bd7764c37b037613305c0b821"
      }
     },
     "metadata": {},
     "output_type": "display_data"
    },
    {
     "name": "stdout",
     "output_type": "stream",
     "text": [
      "sumedh\n"
     ]
    }
   ],
   "source": [
    "from ipywidgets import *\n",
    "from IPython.display import display\n",
    "from IPython.html import widgets\n",
    "\n",
    "\n",
    "def myfunction(sender):\n",
    "    print(text1.value)\n",
    "    print(text2.value)\n",
    "\n",
    "text1 = widgets.Text(description=\"Enter your name\", width=200)\n",
    "text2 = widgets.Text(description=\"Enter your name\", width=200)\n",
    "display(text1)\n",
    "display(text2)\n",
    "text1.on_submit(myfunction)\n",
    "text2.on_submit(myfunction)"
   ]
  },
  {
   "cell_type": "code",
   "execution_count": null,
   "metadata": {
    "collapsed": true
   },
   "outputs": [],
   "source": []
  }
 ],
 "metadata": {
  "kernelspec": {
   "display_name": "Python 3",
   "language": "python",
   "name": "python3"
  },
  "language_info": {
   "codemirror_mode": {
    "name": "ipython",
    "version": 3
   },
   "file_extension": ".py",
   "mimetype": "text/x-python",
   "name": "python",
   "nbconvert_exporter": "python",
   "pygments_lexer": "ipython3",
   "version": "3.6.1"
  }
 },
 "nbformat": 4,
 "nbformat_minor": 2
}
