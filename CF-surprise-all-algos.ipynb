{
 "cells": [
  {
   "cell_type": "code",
   "execution_count": 30,
   "metadata": {},
   "outputs": [],
   "source": [
    "from surprise import SVD\n",
    "from surprise import KNNBasic\n",
    "from surprise import KNNWithMeans\n",
    "from surprise import Dataset\n",
    "from surprise.model_selection import cross_validate\n",
    "\n",
    "\n",
    "# Load the movielens-100k dataset (download it if needed),\n",
    "data = Dataset.load_builtin('ml-100k')\n",
    "\n",
    "\n",
    "\n",
    "\n",
    "\n",
    "    "
   ]
  },
  {
   "cell_type": "code",
   "execution_count": 33,
   "metadata": {},
   "outputs": [
    {
     "name": "stdout",
     "output_type": "stream",
     "text": [
      "SVD--------------\n",
      "Evaluating RMSE, MAE of algorithm SVD on 5 split(s).\n",
      "\n",
      "                  Fold 1  Fold 2  Fold 3  Fold 4  Fold 5  Mean    Std     \n",
      "RMSE (testset)    0.9374  0.9394  0.9325  0.9407  0.9370  0.9374  0.0028  \n",
      "MAE (testset)     0.7381  0.7405  0.7354  0.7389  0.7365  0.7379  0.0018  \n",
      "Fit time          16.98   12.35   12.04   12.04   15.59   13.80   2.08    \n",
      "Test time         0.63    0.40    0.48    0.47    0.66    0.53    0.10    \n"
     ]
    },
    {
     "data": {
      "text/plain": [
       "{'fit_time': (16.982572317123413,\n",
       "  12.349975109100342,\n",
       "  12.04176139831543,\n",
       "  12.044757604598999,\n",
       "  15.590277910232544),\n",
       " 'test_mae': array([0.73808855, 0.74049471, 0.73536644, 0.73888087, 0.73650781]),\n",
       " 'test_rmse': array([0.93735266, 0.93937937, 0.9325398 , 0.94071703, 0.93697412]),\n",
       " 'test_time': (0.631312370300293,\n",
       "  0.4029541015625,\n",
       "  0.47576236724853516,\n",
       "  0.46978211402893066,\n",
       "  0.6582374572753906)}"
      ]
     },
     "execution_count": 33,
     "metadata": {},
     "output_type": "execute_result"
    }
   ],
   "source": [
    "#SVD algorithm\n",
    "\n",
    "algo = SVD()\n",
    "print(\"SVD--------------\")\n",
    "cross_validate(algo, data, measures=['RMSE', 'MAE'], cv=5, verbose=True)\n",
    "\n",
    "\n"
   ]
  },
  {
   "cell_type": "code",
   "execution_count": 22,
   "metadata": {},
   "outputs": [
    {
     "name": "stdout",
     "output_type": "stream",
     "text": [
      "KNNBasic(pearson_baseline)--------------\n",
      "Estimating biases using als...\n",
      "Computing the pearson_baseline similarity matrix...\n",
      "Done computing similarity matrix.\n",
      "Estimating biases using als...\n",
      "Computing the pearson_baseline similarity matrix...\n",
      "Done computing similarity matrix.\n",
      "Estimating biases using als...\n",
      "Computing the pearson_baseline similarity matrix...\n",
      "Done computing similarity matrix.\n",
      "Estimating biases using als...\n",
      "Computing the pearson_baseline similarity matrix...\n",
      "Done computing similarity matrix.\n",
      "Estimating biases using als...\n",
      "Computing the pearson_baseline similarity matrix...\n",
      "Done computing similarity matrix.\n",
      "Evaluating RMSE, MAE of algorithm KNNBasic on 5 split(s).\n",
      "\n",
      "                  Fold 1  Fold 2  Fold 3  Fold 4  Fold 5  Mean    Std     \n",
      "RMSE (testset)    0.9964  0.9978  1.0042  1.0010  1.0029  1.0005  0.0030  \n",
      "MAE (testset)     0.7907  0.7919  0.7934  0.7923  0.7901  0.7917  0.0012  \n",
      "Fit time          5.14    6.72    4.69    5.61    6.10    5.65    0.71    \n",
      "Test time         8.98    11.69   10.82   11.28   11.81   10.91   1.03    \n"
     ]
    },
    {
     "data": {
      "text/plain": [
       "{'fit_time': (5.1422483921051025,\n",
       "  6.722984790802002,\n",
       "  4.687425374984741,\n",
       "  5.605999708175659,\n",
       "  6.0986552238464355),\n",
       " 'test_mae': array([0.79070429, 0.7919255 , 0.79336192, 0.79231739, 0.79011699]),\n",
       " 'test_rmse': array([0.99638381, 0.9978158 , 1.00423743, 1.00097194, 1.00293462]),\n",
       " 'test_time': (8.97899317741394,\n",
       "  11.687777042388916,\n",
       "  10.81707239151001,\n",
       "  11.27585244178772,\n",
       "  11.810414552688599)}"
      ]
     },
     "execution_count": 22,
     "metadata": {},
     "output_type": "execute_result"
    }
   ],
   "source": [
    "#KnnBasic with sim_options=pearson_baseline k=40 neighbours\n",
    "\n",
    "sim_options = {'name': 'pearson_baseline',\n",
    "               'user_based': True  # compute  similarities between items\n",
    "               }\n",
    "\n",
    "algo = KNNBasic(sim_options=sim_options)\n",
    "print(\"KNNBasic(pearson_baseline)--------------\")\n",
    "cross_validate(algo, data, measures=['RMSE', 'MAE'], cv=5, verbose=True)"
   ]
  },
  {
   "cell_type": "code",
   "execution_count": 23,
   "metadata": {},
   "outputs": [
    {
     "name": "stdout",
     "output_type": "stream",
     "text": [
      "KNNBasic(MSD)--------------\n",
      "Computing the msd similarity matrix...\n",
      "Done computing similarity matrix.\n",
      "Computing the msd similarity matrix...\n",
      "Done computing similarity matrix.\n",
      "Computing the msd similarity matrix...\n",
      "Done computing similarity matrix.\n",
      "Computing the msd similarity matrix...\n",
      "Done computing similarity matrix.\n",
      "Computing the msd similarity matrix...\n",
      "Done computing similarity matrix.\n",
      "Evaluating RMSE, MAE of algorithm KNNBasic on 5 split(s).\n",
      "\n",
      "                  Fold 1  Fold 2  Fold 3  Fold 4  Fold 5  Mean    Std     \n",
      "RMSE (testset)    0.9915  0.9736  0.9701  0.9767  0.9833  0.9790  0.0076  \n",
      "MAE (testset)     0.7795  0.7717  0.7673  0.7716  0.7754  0.7731  0.0041  \n",
      "Fit time          1.21    1.23    1.23    1.23    1.24    1.23    0.01    \n",
      "Test time         8.53    8.55    8.29    8.42    8.56    8.47    0.10    \n"
     ]
    },
    {
     "data": {
      "text/plain": [
       "{'fit_time': (1.205735445022583,\n",
       "  1.2327673435211182,\n",
       "  1.2317030429840088,\n",
       "  1.2297029495239258,\n",
       "  1.235654354095459),\n",
       " 'test_mae': array([0.77953441, 0.7717143 , 0.76728423, 0.77164659, 0.77537648]),\n",
       " 'test_rmse': array([0.99152035, 0.97364948, 0.97008605, 0.97667837, 0.98331117]),\n",
       " 'test_time': (8.534174919128418,\n",
       "  8.55213475227356,\n",
       "  8.289864778518677,\n",
       "  8.416528940200806,\n",
       "  8.556156158447266)}"
      ]
     },
     "execution_count": 23,
     "metadata": {},
     "output_type": "execute_result"
    }
   ],
   "source": [
    "#KNN basic with similarity options - MSD , 40 neighbours\n",
    "\n",
    "algo = KNNBasic()\n",
    "print(\"KNNBasic(MSD)--------------\")\n",
    "cross_validate(algo, data, measures=['RMSE', 'MAE'], cv=5, verbose=True)"
   ]
  },
  {
   "cell_type": "code",
   "execution_count": 24,
   "metadata": {},
   "outputs": [
    {
     "name": "stdout",
     "output_type": "stream",
     "text": [
      "KNNBasic(cosine)--------------\n",
      "Computing the cosine similarity matrix...\n",
      "Done computing similarity matrix.\n",
      "Computing the cosine similarity matrix...\n",
      "Done computing similarity matrix.\n",
      "Computing the cosine similarity matrix...\n",
      "Done computing similarity matrix.\n",
      "Computing the cosine similarity matrix...\n",
      "Done computing similarity matrix.\n",
      "Computing the cosine similarity matrix...\n",
      "Done computing similarity matrix.\n",
      "Evaluating RMSE, MAE of algorithm KNNBasic on 5 split(s).\n",
      "\n",
      "                  Fold 1  Fold 2  Fold 3  Fold 4  Fold 5  Mean    Std     \n",
      "RMSE (testset)    1.0200  1.0195  1.0213  1.0105  1.0159  1.0174  0.0039  \n",
      "MAE (testset)     0.8065  0.8085  0.8057  0.8003  0.8016  0.8045  0.0031  \n",
      "Fit time          4.91    3.78    4.37    4.12    4.89    4.41    0.44    \n",
      "Test time         8.45    8.40    8.76    11.15   9.56    9.26    1.03    \n"
     ]
    },
    {
     "data": {
      "text/plain": [
       "{'fit_time': (4.9078357219696045,\n",
       "  3.783846139907837,\n",
       "  4.369278192520142,\n",
       "  4.122966527938843,\n",
       "  4.889919757843018),\n",
       " 'test_mae': array([0.80651554, 0.80853444, 0.80568666, 0.80029538, 0.80161125]),\n",
       " 'test_rmse': array([1.02004454, 1.01946214, 1.0213088 , 1.01052453, 1.01590558]),\n",
       " 'test_time': (8.45439338684082,\n",
       "  8.399535655975342,\n",
       "  8.760608434677124,\n",
       "  11.15118408203125,\n",
       "  9.55547833442688)}"
      ]
     },
     "execution_count": 24,
     "metadata": {},
     "output_type": "execute_result"
    }
   ],
   "source": [
    "#KNN basic with similarity options - cosine , 40 neighbours\n",
    "\n",
    "sim_options = {'name': 'cosine',\n",
    "               'user_based': True  # compute  similarities between items\n",
    "               }\n",
    "\n",
    "\n",
    "algo = KNNBasic(sim_options=sim_options)\n",
    "print(\"KNNBasic(cosine)--------------\")\n",
    "cross_validate(algo, data, measures=['RMSE', 'MAE'], cv=5, verbose=True)"
   ]
  },
  {
   "cell_type": "code",
   "execution_count": 28,
   "metadata": {},
   "outputs": [
    {
     "name": "stdout",
     "output_type": "stream",
     "text": [
      "KNNWithMeans(pearson baseline)--------------\n",
      "Estimating biases using als...\n",
      "Computing the pearson_baseline similarity matrix...\n",
      "Done computing similarity matrix.\n",
      "Estimating biases using als...\n",
      "Computing the pearson_baseline similarity matrix...\n",
      "Done computing similarity matrix.\n",
      "Estimating biases using als...\n",
      "Computing the pearson_baseline similarity matrix...\n",
      "Done computing similarity matrix.\n",
      "Estimating biases using als...\n",
      "Computing the pearson_baseline similarity matrix...\n",
      "Done computing similarity matrix.\n",
      "Estimating biases using als...\n",
      "Computing the pearson_baseline similarity matrix...\n",
      "Done computing similarity matrix.\n",
      "Evaluating RMSE, MAE of algorithm KNNWithMeans on 5 split(s).\n",
      "\n",
      "                  Fold 1  Fold 2  Fold 3  Fold 4  Fold 5  Mean    Std     \n",
      "RMSE (testset)    0.9342  0.9294  0.9463  0.9388  0.9421  0.9382  0.0059  \n",
      "MAE (testset)     0.7275  0.7256  0.7376  0.7302  0.7339  0.7310  0.0043  \n",
      "Fit time          4.46    4.55    4.43    4.48    4.56    4.50    0.05    \n",
      "Test time         8.53    8.30    9.37    9.16    8.33    8.74    0.44    \n"
     ]
    },
    {
     "data": {
      "text/plain": [
       "{'fit_time': (4.461276531219482,\n",
       "  4.5528600215911865,\n",
       "  4.426128387451172,\n",
       "  4.477064371109009,\n",
       "  4.563795328140259),\n",
       " 'test_mae': array([0.7274622 , 0.72562955, 0.73758333, 0.73023031, 0.73386066]),\n",
       " 'test_rmse': array([0.93423179, 0.9294409 , 0.94634132, 0.93880894, 0.94206173]),\n",
       " 'test_time': (8.532220363616943,\n",
       "  8.301762819290161,\n",
       "  9.368939638137817,\n",
       "  9.162464141845703,\n",
       "  8.327690839767456)}"
      ]
     },
     "execution_count": 28,
     "metadata": {},
     "output_type": "execute_result"
    }
   ],
   "source": [
    "#KNN means with similarity options - pearson baseline , 40 neighbours\n",
    "\n",
    "sim_options = {'name': 'pearson_baseline',\n",
    "               'user_based': True  # compute  similarities between items\n",
    "               }\n",
    "algo = KNNWithMeans(sim_options=sim_options)\n",
    "print(\"KNNWithMeans(pearson baseline)--------------\")\n",
    "cross_validate(algo, data, measures=['RMSE', 'MAE'], cv=5, verbose=True)"
   ]
  },
  {
   "cell_type": "code",
   "execution_count": 26,
   "metadata": {},
   "outputs": [
    {
     "name": "stdout",
     "output_type": "stream",
     "text": [
      "KNNWithMeans(MSD)--------------\n",
      "Computing the msd similarity matrix...\n",
      "Done computing similarity matrix.\n",
      "Computing the msd similarity matrix...\n",
      "Done computing similarity matrix.\n",
      "Computing the msd similarity matrix...\n",
      "Done computing similarity matrix.\n",
      "Computing the msd similarity matrix...\n",
      "Done computing similarity matrix.\n",
      "Computing the msd similarity matrix...\n",
      "Done computing similarity matrix.\n",
      "Evaluating RMSE, MAE of algorithm KNNWithMeans on 5 split(s).\n",
      "\n",
      "                  Fold 1  Fold 2  Fold 3  Fold 4  Fold 5  Mean    Std     \n",
      "RMSE (testset)    0.9473  0.9528  0.9507  0.9534  0.9469  0.9502  0.0027  \n",
      "MAE (testset)     0.7453  0.7508  0.7507  0.7492  0.7471  0.7486  0.0021  \n",
      "Fit time          1.36    1.38    1.32    1.32    1.31    1.34    0.03    \n",
      "Test time         8.98    9.33    9.44    10.06   10.74   9.71    0.62    \n"
     ]
    },
    {
     "data": {
      "text/plain": [
       "{'fit_time': (1.3633952140808105,\n",
       "  1.3763222694396973,\n",
       "  1.3244616985321045,\n",
       "  1.3155217170715332,\n",
       "  1.3134853839874268),\n",
       " 'test_mae': array([0.74533901, 0.75082015, 0.75065574, 0.74921464, 0.74709006]),\n",
       " 'test_rmse': array([0.94730228, 0.95278181, 0.95073843, 0.9533643 , 0.94693011]),\n",
       " 'test_time': (8.976985692977905,\n",
       "  9.32904577255249,\n",
       "  9.437728881835938,\n",
       "  10.058065414428711,\n",
       "  10.740275144577026)}"
      ]
     },
     "execution_count": 26,
     "metadata": {},
     "output_type": "execute_result"
    }
   ],
   "source": [
    "#KNN means with sim_options=MSD , 40 neihgbours\n",
    "\n",
    "algo = KNNWithMeans()\n",
    "print(\"KNNWithMeans(MSD)--------------\")\n",
    "cross_validate(algo, data, measures=['RMSE', 'MAE'], cv=5, verbose=True)"
   ]
  },
  {
   "cell_type": "code",
   "execution_count": 29,
   "metadata": {},
   "outputs": [
    {
     "name": "stdout",
     "output_type": "stream",
     "text": [
      "KNNWithMeans(cosine)--------------\n",
      "Computing the cosine similarity matrix...\n",
      "Done computing similarity matrix.\n",
      "Computing the cosine similarity matrix...\n",
      "Done computing similarity matrix.\n",
      "Computing the cosine similarity matrix...\n",
      "Done computing similarity matrix.\n",
      "Computing the cosine similarity matrix...\n",
      "Done computing similarity matrix.\n",
      "Computing the cosine similarity matrix...\n",
      "Done computing similarity matrix.\n",
      "Evaluating RMSE, MAE of algorithm KNNWithMeans on 5 split(s).\n",
      "\n",
      "                  Fold 1  Fold 2  Fold 3  Fold 4  Fold 5  Mean    Std     \n",
      "RMSE (testset)    0.9498  0.9549  0.9598  0.9571  0.9563  0.9556  0.0033  \n",
      "MAE (testset)     0.7500  0.7557  0.7577  0.7561  0.7533  0.7546  0.0027  \n",
      "Fit time          3.92    3.84    4.69    3.80    3.75    4.00    0.35    \n",
      "Test time         8.60    8.19    8.66    8.48    8.82    8.55    0.21    \n"
     ]
    },
    {
     "data": {
      "text/plain": [
       "{'fit_time': (3.923509120941162,\n",
       "  3.8446857929229736,\n",
       "  4.689419507980347,\n",
       "  3.7988784313201904,\n",
       "  3.754991054534912),\n",
       " 'test_mae': array([0.75004951, 0.75572254, 0.757698  , 0.75610326, 0.7532574 ]),\n",
       " 'test_rmse': array([0.94977657, 0.95493563, 0.95977007, 0.95711542, 0.95633966]),\n",
       " 'test_time': (8.604985475540161,\n",
       "  8.193115949630737,\n",
       "  8.660837411880493,\n",
       "  8.47533130645752,\n",
       "  8.81741452217102)}"
      ]
     },
     "execution_count": 29,
     "metadata": {},
     "output_type": "execute_result"
    }
   ],
   "source": [
    "#KNN means with sim_options=cosine , 40 neihgbours\n",
    "sim_options = {'name': 'cosine',\n",
    "               'user_based': True  # compute  similarities between items\n",
    "               }\n",
    "algo = KNNWithMeans(sim_options=sim_options)\n",
    "print(\"KNNWithMeans(cosine)--------------\")\n",
    "cross_validate(algo, data, measures=['RMSE', 'MAE'], cv=5, verbose=True)"
   ]
  },
  {
   "cell_type": "code",
   "execution_count": null,
   "metadata": {
    "collapsed": true
   },
   "outputs": [],
   "source": []
  }
 ],
 "metadata": {
  "kernelspec": {
   "display_name": "Python 3",
   "language": "python",
   "name": "python3"
  },
  "language_info": {
   "codemirror_mode": {
    "name": "ipython",
    "version": 3
   },
   "file_extension": ".py",
   "mimetype": "text/x-python",
   "name": "python",
   "nbconvert_exporter": "python",
   "pygments_lexer": "ipython3",
   "version": "3.6.1"
  }
 },
 "nbformat": 4,
 "nbformat_minor": 2
}
