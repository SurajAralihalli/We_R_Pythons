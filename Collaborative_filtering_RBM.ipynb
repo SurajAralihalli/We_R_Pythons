{
 "cells": [
  {
   "cell_type": "markdown",
   "metadata": {},
   "source": [
    "### Restricted Boltzman Machine approach for Collaborative Filtering.\n",
    "The same has been applied on Netflix dataset.\n",
    "\n",
    "References:<br>\n",
    "https://www.cs.toronto.edu/~rsalakhu/papers/rbmcf.pdf<br>\n",
    "<br>\n",
    "Blogs Refered:<br>\n",
    "http://blog.echen.me/2011/07/18/introduction-to-restricted-boltzmann-machines/<br>\n",
    "<br>\n",
    "Repository refered to:<br>\n",
    "https://github.com/srp98/Movie-Recommender-using-RBM<br>\n",
    "https://github.com/pinkeshbadjatiya/movie-reco-using-RBM<br>\n",
    "https://github.com/echen/restricted-boltzmann-machines<br>"
   ]
  },
  {
   "cell_type": "markdown",
   "metadata": {},
   "source": [
    "##### My understanding of the topic by Salakhutdinov, Mnih and Hinton:<br>\n",
    "A 2 layer undirected RBM is used to model user rating data. The idea is to use an RBM for each user with shared weights for users rating the smae movies. Based on values at all the units , one can decide which one should be activated. The first layer is called the **visible layer** and the second the **hidden layer**. \n",
    "<br>\n",
    "A different RBM is used for each user under the following constraints:\n",
    "\n",
    "* Every RBM has the same number of hidden units, but an RBM has active softmax visible units only for the items rated by that user\n",
    "* The connection weights (and biases) between the softmax visible layer and the hidden layer are tied .If two users have rated the same movie, their two RBM's must use the same weights between the softmax unit for that movie and the hidden units\n",
    "\n",
    "To ensure binary mappings , nodes with ratings from 1 to k are made for each movie a user is rating. Each node is activated or deactivated based on the value it is looking for.<br><br>\n",
    "Node 1 is looking for rating 1 for movie 1 <br>\n",
    "Node 2 is looking for rating 2 for movie 1 itself<br>\n",
    "...... <br>\n",
    "Node K is looking for rating k for movie 1<br>\n",
    "Node K+1 is looking for rating 1 for movie 2<br>\n",
    "....(and so on...)<br>\n",
    "<br>\n",
    "Missing ratings are not dealt with. They are left blank . The mathematics will take care of it.\n",
    "The whole idea behind an RBM is that it can **reconstruct the input**. In the training process we ignore the reconstructions.The network is trained by optimizing the **Contrastive Divergence(CD) (Similar to approximate gradient descent)**.\n"
   ]
  },
  {
   "cell_type": "code",
   "execution_count": 1,
   "metadata": {
    "collapsed": true
   },
   "outputs": [],
   "source": [
    "#importing all necessary librarys\n",
    "import tensorflow as tf\n",
    "import matplotlib.pyplot as plt"
   ]
  },
  {
   "cell_type": "code",
   "execution_count": 2,
   "metadata": {
    "collapsed": true
   },
   "outputs": [],
   "source": [
    "#Reading files\n",
    "\n",
    "import numpy as np\n",
    "import pandas as pd\n",
    "\n",
    "r_cols=['user_id', 'item_id', 'rating', 'timestamp']\n",
    "data_df = pd.read_csv('ml-100k/u.data', sep='\\t', names=r_cols,\n",
    "                      encoding='latin-1')\n",
    "\n",
    "m_cols = ['movie_id', 'movie_title', 'release_date', 'video_release_date', 'imdb_url','unknown', 'Action', 'Adventure',\n",
    "'Animation', 'Children\\'s', 'Comedy', 'Crime', 'Documentary', 'Drama', 'Fantasy','Film-Noir', 'Horror', 'Musical', 'Mystery', 'Romance', 'Sci-Fi', 'Thriller', 'War', 'Western']\n",
    "item_df = pd.read_csv('ml-100k/u.item', sep='|', names=m_cols,\n",
    "                     encoding='latin-1')\n",
    "\n",
    "u_cols = ['user_id', 'age', 'sex', 'occupation', 'zip_code']\n",
    "user_df = pd.read_csv('ml-100k/u.user', sep='|', names=u_cols,\n",
    "                    encoding='latin-1', parse_dates=True) \n",
    "\n",
    "g_cols=['genre','genre_id']\n",
    "genre_df=pd.read_csv('ml-100k/u.genre', sep='|', names=g_cols,\n",
    "                     encoding='latin-1')\n",
    "\n",
    "o_cols=['occupation']\n",
    "occupation_df=pd.read_csv('ml-100k/u.occupation', sep='|', names=o_cols,\n",
    "                     encoding='latin-1')\n"
   ]
  },
  {
   "cell_type": "code",
   "execution_count": 3,
   "metadata": {},
   "outputs": [
    {
     "name": "stdout",
     "output_type": "stream",
     "text": [
      "   user_id  item_id  rating  timestamp\n",
      "0      196      242       3  881250949\n",
      "1      186      302       3  891717742\n",
      "2       22      377       1  878887116\n",
      "3      244       51       2  880606923\n",
      "4      166      346       1  886397596\n"
     ]
    }
   ],
   "source": [
    "print(data_df.head())"
   ]
  },
  {
   "cell_type": "code",
   "execution_count": 4,
   "metadata": {},
   "outputs": [
    {
     "name": "stdout",
     "output_type": "stream",
     "text": [
      "100000\n",
      "943\n"
     ]
    }
   ],
   "source": [
    "user_temp = data_df['user_id']\n",
    "user_group = data_df['user_id'].unique()\n",
    "print(len(user_temp))#1,00,000 ratings (1-5)\n",
    "print(len(user_group)) #943 users"
   ]
  },
  {
   "cell_type": "code",
   "execution_count": 5,
   "metadata": {
    "collapsed": true
   },
   "outputs": [],
   "source": [
    "user_g = data_df.groupby(['user_id'])"
   ]
  },
  {
   "cell_type": "code",
   "execution_count": 6,
   "metadata": {},
   "outputs": [
    {
     "data": {
      "text/plain": [
       "1682"
      ]
     },
     "execution_count": 6,
     "metadata": {},
     "output_type": "execute_result"
    }
   ],
   "source": [
    "len(item_df) #number of unique movies"
   ]
  },
  {
   "cell_type": "code",
   "execution_count": 7,
   "metadata": {},
   "outputs": [],
   "source": [
    "training=[]\n",
    "movie_rated_ids=[]\n",
    "for user_id, item_id in user_g:\n",
    "    temp = [0]*len(item_df) #A list of 0's for all the movies.\n",
    "    l=[]\n",
    "    for num,movie in item_id.iterrows():\n",
    "        l.append(movie['item_id'])\n",
    "        temp[movie['item_id']-1]=movie['rating']/5.0 #Normalize the score for movies.\n",
    "        #print(movie)\n",
    "    training.append(temp)\n",
    "    movie_rated_ids.append(l)\n",
    "#print(training)"
   ]
  },
  {
   "cell_type": "markdown",
   "metadata": {},
   "source": [
    "##### My Understanding of tensor flow & RBM's in general:<br>\n",
    "\n",
    "Every vector is a tensor here. tf.placeholder is used to allocate memory to a tensor with type float32. Its used to feed actual training examples.<br>\n",
    "**tf.float32** is a single precession which is stored in 32 bits. tf.float32 allows you to store more content in memory.<br>\n",
    "During the Contrastive Divergence , an approximate gradient descent is performed. During this calculation we have to use **Gibb's sampling** to sample from the model distribution.<br>\n",
    "**The basis for using the sampling is to not wait for Markov chains ( CD uses them) to converge. Makes the process faster as samples are obtained after k-steps.**<br>\n",
    "**tf.math.sigmoid** : computes sigmoid of input element-wise. <br>\n",
    "**tf.random.uniform** : outputs random values from a uniform distribution.<br>\n",
    "**tf.sign** : tells element-wise inidcation of sign of a number.<br>\n",
    "**tf.nn.relu** : used here to avoid vanishing gradient problem.Adds compexity to the o/p values. <br>\n",
    "**tf.math.reduce_mean** : Compute means of elemts across dimensions of a tensor. <br>\n",
    "**tf.session** : A session object controls the environment in which the Tensor objects are evaluated."
   ]
  },
  {
   "cell_type": "code",
   "execution_count": 8,
   "metadata": {},
   "outputs": [],
   "source": [
    "hiddenUnits = 50 # Number of features learned in 50. It is constant for all users\n",
    "visibleUnits = len(item_df) #No of unique movies\n",
    "\n",
    "v = tf.placeholder(tf.float32, [visibleUnits])  \n",
    "h = tf.placeholder(tf.float32, [hiddenUnits])  \n",
    "W_matrix = tf.placeholder(tf.float32, [visibleUnits, hiddenUnits])  # Weight Matrix\n",
    "\n",
    "#print(W)\n",
    "\n",
    "# Input Processing\n",
    "v0 = tf.placeholder(\"float\", [None, visibleUnits])\n",
    "#print(v0)\n",
    "\n",
    "temp_h0 = tf.nn.sigmoid(tf.matmul(v0, W_matrix) + h)  # Visible layer activation\n",
    "#print(temp_h0)\n",
    "h0 = tf.nn.relu(tf.sign(temp_h0 - tf.random_uniform(tf.shape(temp_h0))))  # Gibb's Sampling\n",
    "\n",
    "# Reconstruction\n",
    "temp_v1 = tf.nn.sigmoid(tf.matmul(h0, tf.transpose(W_matrix)) + v)  # Hidden layer activation\n",
    "v1 = tf.nn.relu(tf.sign(temp_v1 - tf.random_uniform(tf.shape(temp_v1)))) # Gibb's Sampling again \n",
    "h1 = tf.nn.sigmoid(tf.matmul(v1, W_matrix) + h)"
   ]
  },
  {
   "cell_type": "code",
   "execution_count": 9,
   "metadata": {},
   "outputs": [],
   "source": [
    "#Setting parameters\n",
    "\n",
    "# Learning rate\n",
    "alpha = 1.0\n",
    "\n",
    "# Create the gradients\n",
    "w_pos_grad = tf.matmul(tf.transpose(v0), h0)\n",
    "w_neg_grad = tf.matmul(tf.transpose(v1), h1)\n",
    "\n",
    "# Calculate the Contrastive Divergence to maximize\n",
    "CD = (w_pos_grad - w_neg_grad) / tf.to_float(tf.shape(v0)[0])\n",
    "\n",
    "# Create methods to update the weights and biases\n",
    "update_w = W_matrix + alpha * CD\n",
    "update_v = v + alpha * tf.reduce_mean(v0 - v1, 0)\n",
    "update_h = h + alpha * tf.reduce_mean(h0 - h1, 0)\n",
    "\n",
    "# Set the error function, here we use Mean Absolute Error Function\n",
    "err = v0 - v1\n",
    "err_sum = tf.reduce_mean(err*err)"
   ]
  },
  {
   "cell_type": "code",
   "execution_count": 10,
   "metadata": {
    "collapsed": true
   },
   "outputs": [],
   "source": [
    "#Initialize our Variables with Zeroes using Numpy Library\n",
    "\n",
    "# Current weight\n",
    "cur_w = np.zeros([visibleUnits, hiddenUnits], np.float32)\n",
    "\n",
    "# Current visible unit biases\n",
    "cur_v = np.zeros([visibleUnits], np.float32)\n",
    "\n",
    "# Current hidden unit biases\n",
    "cur_h = np.zeros([hiddenUnits], np.float32)\n",
    "\n",
    "# Previous weight\n",
    "prv_w = np.zeros([visibleUnits, hiddenUnits], np.float32)\n",
    "\n",
    "# Previous visible unit biases\n",
    "prv_v = np.zeros([visibleUnits], np.float32)\n",
    "\n",
    "# Previous hidden unit biases\n",
    "prv_h = np.zeros([hiddenUnits], np.float32)\n",
    "sess = tf.Session()\n",
    "sess.run(tf.global_variables_initializer())"
   ]
  },
  {
   "cell_type": "code",
   "execution_count": 11,
   "metadata": {},
   "outputs": [
    {
     "name": "stdout",
     "output_type": "stream",
     "text": [
      "0.34980044\n",
      "0.32827994\n",
      "0.269268\n",
      "0.25000444\n",
      "0.21235962\n",
      "0.19377525\n",
      "0.17253634\n",
      "0.15231222\n",
      "0.1450553\n",
      "0.13936344\n",
      "0.13612044\n",
      "0.13303304\n",
      "0.12929915\n",
      "0.1273045\n",
      "0.12656042\n",
      "0.12820883\n",
      "0.12848863\n",
      "0.13009746\n",
      "0.12789889\n",
      "0.12428089\n",
      "0.12538901\n",
      "0.12342043\n",
      "0.12257372\n",
      "0.12213693\n",
      "0.12088696\n",
      "0.12125124\n",
      "0.11908219\n",
      "0.11699106\n",
      "0.115567595\n",
      "0.11236482\n",
      "0.112605415\n",
      "0.109688364\n",
      "0.108198695\n",
      "0.1081673\n",
      "0.10590404\n",
      "0.10489214\n",
      "0.1044164\n",
      "0.10274541\n",
      "0.101571344\n",
      "0.09979129\n",
      "0.09868117\n",
      "0.09828132\n",
      "0.097268164\n",
      "0.09738682\n",
      "0.09628488\n",
      "0.0950329\n",
      "0.09420334\n",
      "0.09344375\n",
      "0.09196896\n",
      "0.091676295\n"
     ]
    },
    {
     "data": {
      "image/png": "[encoded data removed]",
      "text/plain": [
       "<Figure size 432x288 with 1 Axes>"
      ]
     },
     "metadata": {},
     "output_type": "display_data"
    }
   ],
   "source": [
    "# Train RBM with 50 Epoch. Printing the error after each epoch\n",
    "epochs = 50\n",
    "batchsize = 100\n",
    "errors = []\n",
    "for i in range(epochs):\n",
    "    for start, end in zip(range(0, len(training), batchsize), range(batchsize, len(training), batchsize)):\n",
    "        batch = training[start:end]\n",
    "        cur_w = sess.run(update_w, feed_dict={v0: batch, W_matrix: prv_w, v: prv_v, h: prv_h})\n",
    "        cur_v = sess.run(update_v, feed_dict={v0: batch, W_matrix: prv_w, v: prv_v, h: prv_h})\n",
    "        cur_h = sess.run(update_h, feed_dict={v0: batch, W_matrix: prv_w, v: prv_v, h: prv_h})\n",
    "        prv_w = cur_w\n",
    "        prv_vb = cur_v\n",
    "        prv_hb = cur_h\n",
    "    errors.append(sess.run(err_sum, feed_dict={v0: training, W_matrix: cur_w, v: cur_v, h: cur_h}))\n",
    "    print(errors[-1])\n",
    "plt.plot(errors)\n",
    "plt.ylabel('Error')\n",
    "plt.xlabel('Epoch')\n",
    "plt.show()"
   ]
  },
  {
   "cell_type": "code",
   "execution_count": 12,
   "metadata": {},
   "outputs": [
    {
     "name": "stdout",
     "output_type": "stream",
     "text": [
      "Enter the UserID : 20\n",
      "List of the movies he/she rated: \n"
     ]
    },
    {
     "data": {
      "text/html": [
       "<div>\n",
       "<style scoped>\n",
       "    .dataframe tbody tr th:only-of-type {\n",
       "        vertical-align: middle;\n",
       "    }\n",
       "\n",
       "    .dataframe tbody tr th {\n",
       "        vertical-align: top;\n",
       "    }\n",
       "\n",
       "    .dataframe thead th {\n",
       "        text-align: right;\n",
       "    }\n",
       "</style>\n",
       "<table border=\"1\" class=\"dataframe\">\n",
       "  <thead>\n",
       "    <tr style=\"text-align: right;\">\n",
       "      <th></th>\n",
       "      <th>movie_id</th>\n",
       "      <th>movie_title</th>\n",
       "      <th>release_date</th>\n",
       "    </tr>\n",
       "  </thead>\n",
       "  <tbody>\n",
       "    <tr>\n",
       "      <th>287</th>\n",
       "      <td>288</td>\n",
       "      <td>Scream (1996)</td>\n",
       "      <td>20-Dec-1996</td>\n",
       "    </tr>\n",
       "    <tr>\n",
       "      <th>207</th>\n",
       "      <td>208</td>\n",
       "      <td>Young Frankenstein (1974)</td>\n",
       "      <td>01-Jan-1974</td>\n",
       "    </tr>\n",
       "    <tr>\n",
       "      <th>10</th>\n",
       "      <td>11</td>\n",
       "      <td>Seven (Se7en) (1995)</td>\n",
       "      <td>01-Jan-1995</td>\n",
       "    </tr>\n",
       "    <tr>\n",
       "      <th>175</th>\n",
       "      <td>176</td>\n",
       "      <td>Aliens (1986)</td>\n",
       "      <td>01-Jan-1986</td>\n",
       "    </tr>\n",
       "    <tr>\n",
       "      <th>117</th>\n",
       "      <td>118</td>\n",
       "      <td>Twister (1996)</td>\n",
       "      <td>10-May-1996</td>\n",
       "    </tr>\n",
       "  </tbody>\n",
       "</table>\n",
       "</div>"
      ],
      "text/plain": [
       "     movie_id                movie_title release_date\n",
       "287       288              Scream (1996)  20-Dec-1996\n",
       "207       208  Young Frankenstein (1974)  01-Jan-1974\n",
       "10         11       Seven (Se7en) (1995)  01-Jan-1995\n",
       "175       176              Aliens (1986)  01-Jan-1986\n",
       "117       118             Twister (1996)  10-May-1996"
      ]
     },
     "execution_count": 12,
     "metadata": {},
     "output_type": "execute_result"
    }
   ],
   "source": [
    "#inputting the user ID\n",
    "inp = int(input(\"Enter the UserID : \"))\n",
    "list_of_his_watched_movies = movie_rated_ids[inp-1] #0 based index\n",
    "#print(list_of_his_watched_movies)\n",
    "\n",
    "print(\"List of the movies he/she rated: \")\n",
    "list_of_his_watched_movies = [m-1 for m in list_of_his_watched_movies]\n",
    "df_of_his_watched_movies = item_df.iloc[list_of_his_watched_movies,[0,1,2]]\n",
    "\n",
    "inputUser=[training[inp]] #Needed for feeding in to the network.\n",
    "#df_of_his_watched_movies.columns=['item_id','movie_title','release_date']\n",
    "df_of_his_watched_movies.head()"
   ]
  },
  {
   "cell_type": "code",
   "execution_count": 13,
   "metadata": {},
   "outputs": [],
   "source": [
    "# Feeding in the User and Reconstructing the input\n",
    "hh0 = tf.nn.sigmoid(tf.matmul(v0, W_matrix) + h)\n",
    "vv1 = tf.nn.sigmoid(tf.matmul(hh0, tf.transpose(W_matrix)) + v)\n",
    "\n",
    "feed = sess.run(hh0, feed_dict={v0: inputUser, W_matrix: prv_w, h: prv_h})\n",
    "reconstruction = sess.run(vv1, feed_dict={hh0: feed, W_matrix: prv_w, v: prv_v})"
   ]
  },
  {
   "cell_type": "code",
   "execution_count": 14,
   "metadata": {},
   "outputs": [
    {
     "name": "stdout",
     "output_type": "stream",
     "text": [
      "List of movies suggested to watch: \n"
     ]
    },
    {
     "data": {
      "text/html": [
       "<div>\n",
       "<style scoped>\n",
       "    .dataframe tbody tr th:only-of-type {\n",
       "        vertical-align: middle;\n",
       "    }\n",
       "\n",
       "    .dataframe tbody tr th {\n",
       "        vertical-align: top;\n",
       "    }\n",
       "\n",
       "    .dataframe thead th {\n",
       "        text-align: right;\n",
       "    }\n",
       "</style>\n",
       "<table border=\"1\" class=\"dataframe\">\n",
       "  <thead>\n",
       "    <tr style=\"text-align: right;\">\n",
       "      <th></th>\n",
       "      <th>movie_id</th>\n",
       "      <th>movie_title_x</th>\n",
       "      <th>release_date_x</th>\n",
       "      <th>Generated Score</th>\n",
       "    </tr>\n",
       "  </thead>\n",
       "  <tbody>\n",
       "    <tr>\n",
       "      <th>99</th>\n",
       "      <td>100</td>\n",
       "      <td>Fargo (1996)</td>\n",
       "      <td>14-Feb-1997</td>\n",
       "      <td>0.999978</td>\n",
       "    </tr>\n",
       "    <tr>\n",
       "      <th>55</th>\n",
       "      <td>56</td>\n",
       "      <td>Pulp Fiction (1994)</td>\n",
       "      <td>01-Jan-1994</td>\n",
       "      <td>0.997518</td>\n",
       "    </tr>\n",
       "    <tr>\n",
       "      <th>233</th>\n",
       "      <td>234</td>\n",
       "      <td>Jaws (1975)</td>\n",
       "      <td>01-Jan-1975</td>\n",
       "      <td>0.985566</td>\n",
       "    </tr>\n",
       "    <tr>\n",
       "      <th>447</th>\n",
       "      <td>448</td>\n",
       "      <td>Omen, The (1976)</td>\n",
       "      <td>01-Jan-1976</td>\n",
       "      <td>0.954036</td>\n",
       "    </tr>\n",
       "    <tr>\n",
       "      <th>182</th>\n",
       "      <td>183</td>\n",
       "      <td>Alien (1979)</td>\n",
       "      <td>01-Jan-1979</td>\n",
       "      <td>0.945022</td>\n",
       "    </tr>\n",
       "    <tr>\n",
       "      <th>199</th>\n",
       "      <td>200</td>\n",
       "      <td>Shining, The (1980)</td>\n",
       "      <td>01-Jan-1980</td>\n",
       "      <td>0.944302</td>\n",
       "    </tr>\n",
       "    <tr>\n",
       "      <th>218</th>\n",
       "      <td>219</td>\n",
       "      <td>Nightmare on Elm Street, A (1984)</td>\n",
       "      <td>01-Jan-1984</td>\n",
       "      <td>0.940541</td>\n",
       "    </tr>\n",
       "    <tr>\n",
       "      <th>11</th>\n",
       "      <td>12</td>\n",
       "      <td>Usual Suspects, The (1995)</td>\n",
       "      <td>14-Aug-1995</td>\n",
       "      <td>0.935444</td>\n",
       "    </tr>\n",
       "    <tr>\n",
       "      <th>184</th>\n",
       "      <td>185</td>\n",
       "      <td>Psycho (1960)</td>\n",
       "      <td>01-Jan-1960</td>\n",
       "      <td>0.934621</td>\n",
       "    </tr>\n",
       "    <tr>\n",
       "      <th>435</th>\n",
       "      <td>436</td>\n",
       "      <td>American Werewolf in London, An (1981)</td>\n",
       "      <td>01-Jan-1981</td>\n",
       "      <td>0.930339</td>\n",
       "    </tr>\n",
       "  </tbody>\n",
       "</table>\n",
       "</div>"
      ],
      "text/plain": [
       "     movie_id                           movie_title_x release_date_x  \\\n",
       "99        100                            Fargo (1996)    14-Feb-1997   \n",
       "55         56                     Pulp Fiction (1994)    01-Jan-1994   \n",
       "233       234                             Jaws (1975)    01-Jan-1975   \n",
       "447       448                        Omen, The (1976)    01-Jan-1976   \n",
       "182       183                            Alien (1979)    01-Jan-1979   \n",
       "199       200                     Shining, The (1980)    01-Jan-1980   \n",
       "218       219       Nightmare on Elm Street, A (1984)    01-Jan-1984   \n",
       "11         12              Usual Suspects, The (1995)    14-Aug-1995   \n",
       "184       185                           Psycho (1960)    01-Jan-1960   \n",
       "435       436  American Werewolf in London, An (1981)    01-Jan-1981   \n",
       "\n",
       "     Generated Score  \n",
       "99          0.999978  \n",
       "55          0.997518  \n",
       "233         0.985566  \n",
       "447         0.954036  \n",
       "182         0.945022  \n",
       "199         0.944302  \n",
       "218         0.940541  \n",
       "11          0.935444  \n",
       "184         0.934621  \n",
       "435         0.930339  "
      ]
     },
     "execution_count": 14,
     "metadata": {},
     "output_type": "execute_result"
    }
   ],
   "source": [
    "# Sort the recommendations based on score. Display top 10.\n",
    "copy_item_df = item_df\n",
    "copy_item_df[\"Generated Score\"] = reconstruction[0]\n",
    "copy_item_df.sort_values([\"Generated Score\"], ascending=False).head(10)\n",
    "\n",
    "# Merging copy_item_df with ratings_df by item_id\n",
    "merged_item_df = copy_item_df.merge(df_of_his_watched_movies, on='movie_id', how='outer', indicator=True)\n",
    "merged_item_df = merged_item_df[merged_item_df['_merge'] == 'left_only'] #Choosing only not watched movies.\n",
    "# Dropping unnecessary columns\n",
    "merged_item_df= merged_item_df.iloc[:,[0,1,2,24]]\n",
    "\n",
    "print('List of movies suggested to watch: ')\n",
    "# The final recommendations\n",
    "merged_item_df.sort_values(['Generated Score'], ascending=False).head(10)"
   ]
  },
  {
   "cell_type": "markdown",
   "metadata": {},
   "source": [
    "##### User with ID 20 has watched more movies belonging to the horror genre. The majority of movies suggested by the model is also in this category."
   ]
  }
 ],
 "metadata": {
  "kernelspec": {
   "display_name": "Deep Learning",
   "language": "python",
   "name": "deepl"
  },
  "language_info": {
   "codemirror_mode": {
    "name": "ipython",
    "version": 3
   },
   "file_extension": ".py",
   "mimetype": "text/x-python",
   "name": "python",
   "nbconvert_exporter": "python",
   "pygments_lexer": "ipython3",
   "version": "3.5.4"
  }
 },
 "nbformat": 4,
 "nbformat_minor": 2
}
