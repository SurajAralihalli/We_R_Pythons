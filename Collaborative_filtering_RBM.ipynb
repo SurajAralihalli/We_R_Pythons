{
 "cells": [
  {
   "cell_type": "markdown",
   "metadata": {},
   "source": [
    "### Restricted Boltzman Machine approach for Collaborative Filtering.\n",
    "The same has been applied on Netflix dataset.\n",
    "\n",
    "References:<br>\n",
    "https://www.cs.toronto.edu/~rsalakhu/papers/rbmcf.pdf<br>\n",
    "<br>\n",
    "Blogs Refered:<br>\n",
    "http://blog.echen.me/2011/07/18/introduction-to-restricted-boltzmann-machines/<br>\n",
    "<br>\n",
    "Repository refered to:<br>\n",
    "https://github.com/srp98/Movie-Recommender-using-RBM<br>\n",
    "https://github.com/pinkeshbadjatiya/movie-reco-using-RBM<br>\n",
    "https://github.com/echen/restricted-boltzmann-machines<br>"
   ]
  },
  {
   "cell_type": "markdown",
   "metadata": {},
   "source": [
    "##### My understanding of the topic by Salakhutdinov, Mnih and Hinton:<br>\n",
    "A 2 layer undirected RBM is used to model user rating data. The idea is to use an RBM for each user with shared weights for users rating the smae movies. Based on values at all the units , one can decide which one should be activated. The first layer is called the **visible layer** and the second the **hidden layer**. \n",
    "<br>\n",
    "A different RBM is used for each user under the following constraints:\n",
    "\n",
    "* Every RBM has the same number of hidden units, but an RBM has active softmax visible units only for the items rated by that user\n",
    "* The connection weights (and biases) between the softmax visible layer and the hidden layer are tied .If two users have rated the same movie, their two RBM's must use the same weights between the softmax unit for that movie and the hidden units\n",
    "\n",
    "To ensure binary mappings , nodes with ratings from 1 to k are made for each movie a user is rating. Each node is activated or deactivated based on the value it is looking for.<br><br>\n",
    "Node 1 is looking for rating 1 for movie 1 <br>\n",
    "Node 2 is looking for rating 2 for movie 1 itself<br>\n",
    "...... <br>\n",
    "Node K is looking for rating k for movie 1<br>\n",
    "Node K+1 is looking for rating 1 for movie 2<br>\n",
    "....(and so on...)<br>\n",
    "<br>\n",
    "Missing ratings are not dealt with. They are left blank . The mathematics will take care of it.\n",
    "The whole idea behind an RBM is that it can **reconstruct the input**. In the training process we ignore the reconstructions.The network is trained by optimizing the **Contrastive Divergence(CD) (Similar to approximate gradient descent)**.\n"
   ]
  },
  {
   "cell_type": "code",
   "execution_count": 1,
   "metadata": {
    "collapsed": true
   },
   "outputs": [],
   "source": [
    "#importing all necessary librarys\n",
    "import tensorflow as tf\n",
    "import matplotlib.pyplot as plt"
   ]
  },
  {
   "cell_type": "code",
   "execution_count": 2,
   "metadata": {},
   "outputs": [],
   "source": [
    "#Reading files\n",
    "\n",
    "import numpy as np\n",
    "import pandas as pd\n",
    "\n",
    "r_cols=['user_id', 'item_id', 'rating', 'timestamp']\n",
    "data_df = pd.read_csv('ml-100k/u.data', sep='\\t', names=r_cols,\n",
    "                      encoding='latin-1')\n",
    "\n",
    "m_cols = ['movie_id', 'movie_title', 'release_date', 'video_release_date', 'imdb_url','unknown', 'Action', 'Adventure',\n",
    "'Animation', 'Children\\'s', 'Comedy', 'Crime', 'Documentary', 'Drama', 'Fantasy','Film-Noir', 'Horror', 'Musical', 'Mystery', 'Romance', 'Sci-Fi', 'Thriller', 'War', 'Western']\n",
    "item_df = pd.read_csv('ml-100k/u.item', sep='|', names=m_cols,\n",
    "                     encoding='latin-1')\n",
    "\n",
    "u_cols = ['user_id', 'age', 'sex', 'occupation', 'zip_code']\n",
    "user_df = pd.read_csv('ml-100k/u.user', sep='|', names=u_cols,\n",
    "                    encoding='latin-1', parse_dates=True) \n",
    "\n",
    "g_cols=['genre','genre_id']\n",
    "genre_df=pd.read_csv('ml-100k/u.genre', sep='|', names=g_cols,\n",
    "                     encoding='latin-1')\n",
    "\n",
    "o_cols=['occupation']\n",
    "occupation_df=pd.read_csv('ml-100k/u.occupation', sep='|', names=o_cols,\n",
    "                     encoding='latin-1')\n",
    "new_movie_df = pd.read_csv('ml-100k/item_cc_genre.csv')"
   ]
  },
  {
   "cell_type": "code",
   "execution_count": 3,
   "metadata": {},
   "outputs": [
    {
     "name": "stdout",
     "output_type": "stream",
     "text": [
      "   user_id  item_id  rating  timestamp\n",
      "0      196      242       3  881250949\n",
      "1      186      302       3  891717742\n",
      "2       22      377       1  878887116\n",
      "3      244       51       2  880606923\n",
      "4      166      346       1  886397596\n"
     ]
    }
   ],
   "source": [
    "print(data_df.head())"
   ]
  },
  {
   "cell_type": "code",
   "execution_count": 4,
   "metadata": {},
   "outputs": [
    {
     "name": "stdout",
     "output_type": "stream",
     "text": [
      "100000\n",
      "943\n"
     ]
    }
   ],
   "source": [
    "user_temp = data_df['user_id']\n",
    "user_group = data_df['user_id'].unique()\n",
    "print(len(user_temp))#1,00,000 ratings (1-5)\n",
    "print(len(user_group)) #943 users"
   ]
  },
  {
   "cell_type": "code",
   "execution_count": 5,
   "metadata": {
    "collapsed": true
   },
   "outputs": [],
   "source": [
    "user_g = data_df.groupby(['user_id'])"
   ]
  },
  {
   "cell_type": "code",
   "execution_count": 6,
   "metadata": {},
   "outputs": [
    {
     "data": {
      "text/plain": [
       "1682"
      ]
     },
     "execution_count": 6,
     "metadata": {},
     "output_type": "execute_result"
    }
   ],
   "source": [
    "len(item_df) #number of unique movies"
   ]
  },
  {
   "cell_type": "code",
   "execution_count": 7,
   "metadata": {},
   "outputs": [],
   "source": [
    "training=[]\n",
    "movie_rated_ids=[]\n",
    "for user_id, item_id in user_g:\n",
    "    temp = [0]*len(item_df) #A list of 0's for all the movies.\n",
    "    l=[]\n",
    "    for num,movie in item_id.iterrows():\n",
    "        l.append(movie['item_id'])\n",
    "        temp[movie['item_id']-1]=movie['rating']/5.0 #Normalize the score for movies.\n",
    "        #print(movie)\n",
    "    training.append(temp)\n",
    "    movie_rated_ids.append(l)\n",
    "#print(training)"
   ]
  },
  {
   "cell_type": "markdown",
   "metadata": {},
   "source": [
    "##### My Understanding of tensor flow & RBM's in general:<br>\n",
    "\n",
    "Every vector is a tensor here. tf.placeholder is used to allocate memory to a tensor with type float32. Its used to feed actual training examples.<br>\n",
    "**tf.float32** is a single precession which is stored in 32 bits. tf.float32 allows you to store more content in memory.<br>\n",
    "During the Contrastive Divergence , an approximate gradient descent is performed. During this calculation we have to use **Gibb's sampling** to sample from the model distribution.<br>\n",
    "**The basis for using the sampling is to not wait for Markov chains ( CD uses them) to converge. Makes the process faster as samples are obtained after k-steps.**<br>\n",
    "**tf.math.sigmoid** : computes sigmoid of input element-wise. <br>\n",
    "**tf.random.uniform** : outputs random values from a uniform distribution.<br>\n",
    "**tf.sign** : tells element-wise inidcation of sign of a number.<br>\n",
    "**tf.nn.relu** : used here to avoid vanishing gradient problem.Adds compexity to the o/p values. <br>\n",
    "**tf.math.reduce_mean** : Compute means of elemts across dimensions of a tensor. <br>\n",
    "**tf.session** : A session object controls the environment in which the Tensor objects are evaluated."
   ]
  },
  {
   "cell_type": "code",
   "execution_count": 8,
   "metadata": {
    "collapsed": true
   },
   "outputs": [],
   "source": [
    "hiddenUnits = 50 # Number of features learned in 50. It is constant for all users\n",
    "visibleUnits = len(item_df) #No of unique movies\n",
    "\n",
    "v = tf.placeholder(tf.float32, [visibleUnits])  \n",
    "h = tf.placeholder(tf.float32, [hiddenUnits])  \n",
    "W_matrix = tf.placeholder(tf.float32, [visibleUnits, hiddenUnits])  # Weight Matrix\n",
    "\n",
    "#print(W)\n",
    "\n",
    "# Input Processing\n",
    "v0 = tf.placeholder(\"float\", [None, visibleUnits])\n",
    "#print(v0)\n",
    "\n",
    "temp_h0 = tf.nn.sigmoid(tf.matmul(v0, W_matrix) + h)  # Visible layer activation\n",
    "#print(temp_h0)\n",
    "h0 = tf.nn.relu(tf.sign(temp_h0 - tf.random_uniform(tf.shape(temp_h0))))  # Gibb's Sampling\n",
    "\n",
    "# Reconstruction\n",
    "temp_v1 = tf.nn.sigmoid(tf.matmul(h0, tf.transpose(W_matrix)) + v)  # Hidden layer activation\n",
    "v1 = tf.nn.relu(tf.sign(temp_v1 - tf.random_uniform(tf.shape(temp_v1)))) # Gibb's Sampling again \n",
    "h1 = tf.nn.sigmoid(tf.matmul(v1, W_matrix) + h)"
   ]
  },
  {
   "cell_type": "code",
   "execution_count": 9,
   "metadata": {
    "collapsed": true
   },
   "outputs": [],
   "source": [
    "#Setting parameters\n",
    "\n",
    "# Learning rate\n",
    "alpha = 1.0\n",
    "\n",
    "# Create the gradients\n",
    "w_pos_grad = tf.matmul(tf.transpose(v0), h0)\n",
    "w_neg_grad = tf.matmul(tf.transpose(v1), h1)\n",
    "\n",
    "# Calculate the Contrastive Divergence to maximize\n",
    "CD = (w_pos_grad - w_neg_grad) / tf.to_float(tf.shape(v0)[0])\n",
    "\n",
    "# Create methods to update the weights and biases\n",
    "update_w = W_matrix + alpha * CD\n",
    "update_v = v + alpha * tf.reduce_mean(v0 - v1, 0)\n",
    "update_h = h + alpha * tf.reduce_mean(h0 - h1, 0)\n",
    "\n",
    "# Set the error function, here we use Mean Absolute Error Function\n",
    "err = v0 - v1\n",
    "err_sum = tf.reduce_mean(err*err)"
   ]
  },
  {
   "cell_type": "code",
   "execution_count": 10,
   "metadata": {
    "collapsed": true
   },
   "outputs": [],
   "source": [
    "#Initialize our Variables with Zeroes using Numpy Library\n",
    "\n",
    "# Current weight\n",
    "cur_w = np.zeros([visibleUnits, hiddenUnits], np.float32)\n",
    "\n",
    "# Current visible unit biases\n",
    "cur_v = np.zeros([visibleUnits], np.float32)\n",
    "\n",
    "# Current hidden unit biases\n",
    "cur_h = np.zeros([hiddenUnits], np.float32)\n",
    "\n",
    "# Previous weight\n",
    "prv_w = np.zeros([visibleUnits, hiddenUnits], np.float32)\n",
    "\n",
    "# Previous visible unit biases\n",
    "prv_v = np.zeros([visibleUnits], np.float32)\n",
    "\n",
    "# Previous hidden unit biases\n",
    "prv_h = np.zeros([hiddenUnits], np.float32)\n",
    "sess = tf.Session()\n",
    "sess.run(tf.global_variables_initializer())"
   ]
  },
  {
   "cell_type": "code",
   "execution_count": 11,
   "metadata": {},
   "outputs": [
    {
     "name": "stdout",
     "output_type": "stream",
     "text": [
      "0.35285732\n",
      "0.32627806\n",
      "0.24930438\n",
      "0.216911\n",
      "0.18606098\n",
      "0.1658076\n",
      "0.15208322\n",
      "0.1447761\n",
      "0.13924025\n",
      "0.13818257\n",
      "0.13780415\n",
      "0.1349682\n",
      "0.13428552\n",
      "0.13374269\n",
      "0.13350525\n",
      "0.13342784\n",
      "0.13319747\n",
      "0.13318776\n",
      "0.1287383\n",
      "0.12913474\n",
      "0.12508726\n",
      "0.12585467\n",
      "0.12516217\n",
      "0.12374917\n",
      "0.122449\n",
      "0.11956312\n",
      "0.117606774\n",
      "0.11825628\n",
      "0.11662702\n",
      "0.115153246\n",
      "0.114412576\n",
      "0.11355816\n",
      "0.11201668\n",
      "0.1098466\n",
      "0.11049599\n",
      "0.10784034\n",
      "0.10711164\n",
      "0.1060957\n",
      "0.104747765\n",
      "0.104411855\n",
      "0.10364067\n",
      "0.102084555\n",
      "0.103332244\n",
      "0.10168773\n",
      "0.10072652\n",
      "0.10025897\n",
      "0.09960821\n",
      "0.097912\n",
      "0.09833756\n",
      "0.09720688\n"
     ]
    },
    {
     "data": {
      "image/png": "[encoded data removed]",
      "text/plain": [
       "<Figure size 432x288 with 1 Axes>"
      ]
     },
     "metadata": {},
     "output_type": "display_data"
    }
   ],
   "source": [
    "# Train RBM with 50 Epoch. Printing the error after each epoch\n",
    "epochs = 50\n",
    "batchsize = 100\n",
    "errors = []\n",
    "for i in range(epochs):\n",
    "    for start, end in zip(range(0, len(training), batchsize), range(batchsize, len(training), batchsize)):\n",
    "        batch = training[start:end]\n",
    "        cur_w = sess.run(update_w, feed_dict={v0: batch, W_matrix: prv_w, v: prv_v, h: prv_h})\n",
    "        cur_v = sess.run(update_v, feed_dict={v0: batch, W_matrix: prv_w, v: prv_v, h: prv_h})\n",
    "        cur_h = sess.run(update_h, feed_dict={v0: batch, W_matrix: prv_w, v: prv_v, h: prv_h})\n",
    "        prv_w = cur_w\n",
    "        prv_vb = cur_v\n",
    "        prv_hb = cur_h\n",
    "    errors.append(sess.run(err_sum, feed_dict={v0: training, W_matrix: cur_w, v: cur_v, h: cur_h}))\n",
    "    print(errors[-1])\n",
    "plt.plot(errors)\n",
    "plt.ylabel('Error')\n",
    "plt.xlabel('Epoch')\n",
    "plt.show()"
   ]
  },
  {
   "cell_type": "code",
   "execution_count": 12,
   "metadata": {},
   "outputs": [
    {
     "name": "stdout",
     "output_type": "stream",
     "text": [
      "Enter the UserID : 20\n",
      "List of the movies he/she rated: \n"
     ]
    },
    {
     "data": {
      "text/html": [
       "<div>\n",
       "<style scoped>\n",
       "    .dataframe tbody tr th:only-of-type {\n",
       "        vertical-align: middle;\n",
       "    }\n",
       "\n",
       "    .dataframe tbody tr th {\n",
       "        vertical-align: top;\n",
       "    }\n",
       "\n",
       "    .dataframe thead th {\n",
       "        text-align: right;\n",
       "    }\n",
       "</style>\n",
       "<table border=\"1\" class=\"dataframe\">\n",
       "  <thead>\n",
       "    <tr style=\"text-align: right;\">\n",
       "      <th></th>\n",
       "      <th>movie_id</th>\n",
       "      <th>movie_title</th>\n",
       "      <th>release_date</th>\n",
       "    </tr>\n",
       "  </thead>\n",
       "  <tbody>\n",
       "    <tr>\n",
       "      <th>287</th>\n",
       "      <td>288</td>\n",
       "      <td>Scream (1996)</td>\n",
       "      <td>20-Dec-1996</td>\n",
       "    </tr>\n",
       "    <tr>\n",
       "      <th>207</th>\n",
       "      <td>208</td>\n",
       "      <td>Young Frankenstein (1974)</td>\n",
       "      <td>01-Jan-1974</td>\n",
       "    </tr>\n",
       "    <tr>\n",
       "      <th>10</th>\n",
       "      <td>11</td>\n",
       "      <td>Seven (Se7en) (1995)</td>\n",
       "      <td>01-Jan-1995</td>\n",
       "    </tr>\n",
       "    <tr>\n",
       "      <th>175</th>\n",
       "      <td>176</td>\n",
       "      <td>Aliens (1986)</td>\n",
       "      <td>01-Jan-1986</td>\n",
       "    </tr>\n",
       "    <tr>\n",
       "      <th>117</th>\n",
       "      <td>118</td>\n",
       "      <td>Twister (1996)</td>\n",
       "      <td>10-May-1996</td>\n",
       "    </tr>\n",
       "  </tbody>\n",
       "</table>\n",
       "</div>"
      ],
      "text/plain": [
       "     movie_id                movie_title release_date\n",
       "287       288              Scream (1996)  20-Dec-1996\n",
       "207       208  Young Frankenstein (1974)  01-Jan-1974\n",
       "10         11       Seven (Se7en) (1995)  01-Jan-1995\n",
       "175       176              Aliens (1986)  01-Jan-1986\n",
       "117       118             Twister (1996)  10-May-1996"
      ]
     },
     "execution_count": 12,
     "metadata": {},
     "output_type": "execute_result"
    }
   ],
   "source": [
    "#inputting the user ID\n",
    "inp = int(input(\"Enter the UserID : \"))\n",
    "list_of_his_watched_movies = movie_rated_ids[inp-1] #0 based index\n",
    "#print(list_of_his_watched_movies)\n",
    "\n",
    "print(\"List of the movies he/she rated: \")\n",
    "list_of_his_watched_movies = [m-1 for m in list_of_his_watched_movies]\n",
    "df_of_his_watched_movies = item_df.iloc[list_of_his_watched_movies,[0,1,2]]\n",
    "\n",
    "inputUser=[training[inp]] #Needed for feeding in to the network.\n",
    "#df_of_his_watched_movies.columns=['item_id','movie_title','release_date']\n",
    "df_of_his_watched_movies.head()"
   ]
  },
  {
   "cell_type": "code",
   "execution_count": 13,
   "metadata": {
    "collapsed": true
   },
   "outputs": [],
   "source": [
    "# Feeding in the User and Reconstructing the input\n",
    "hh0 = tf.nn.sigmoid(tf.matmul(v0, W_matrix) + h)\n",
    "vv1 = tf.nn.sigmoid(tf.matmul(hh0, tf.transpose(W_matrix)) + v)\n",
    "\n",
    "feed = sess.run(hh0, feed_dict={v0: inputUser, W_matrix: prv_w, h: prv_h})\n",
    "reconstruction = sess.run(vv1, feed_dict={hh0: feed, W_matrix: prv_w, v: prv_v})"
   ]
  },
  {
   "cell_type": "code",
   "execution_count": 14,
   "metadata": {},
   "outputs": [
    {
     "name": "stdout",
     "output_type": "stream",
     "text": [
      "List of movies suggested to watch: \n"
     ]
    },
    {
     "data": {
      "text/html": [
       "<div>\n",
       "<style scoped>\n",
       "    .dataframe tbody tr th:only-of-type {\n",
       "        vertical-align: middle;\n",
       "    }\n",
       "\n",
       "    .dataframe tbody tr th {\n",
       "        vertical-align: top;\n",
       "    }\n",
       "\n",
       "    .dataframe thead th {\n",
       "        text-align: right;\n",
       "    }\n",
       "</style>\n",
       "<table border=\"1\" class=\"dataframe\">\n",
       "  <thead>\n",
       "    <tr style=\"text-align: right;\">\n",
       "      <th></th>\n",
       "      <th>movie_id</th>\n",
       "      <th>movie_title</th>\n",
       "      <th>year</th>\n",
       "      <th>Generated Score</th>\n",
       "      <th>release_date_x</th>\n",
       "      <th>genre</th>\n",
       "      <th>director</th>\n",
       "      <th>actor1</th>\n",
       "      <th>actor2</th>\n",
       "    </tr>\n",
       "  </thead>\n",
       "  <tbody>\n",
       "    <tr>\n",
       "      <th>88</th>\n",
       "      <td>100</td>\n",
       "      <td>Fargo</td>\n",
       "      <td>1997</td>\n",
       "      <td>0.998510</td>\n",
       "      <td>14-Feb-1997</td>\n",
       "      <td>Crime Drama Thriller</td>\n",
       "      <td>Joel Coen</td>\n",
       "      <td>William H. Macy</td>\n",
       "      <td>Frances McDormand</td>\n",
       "    </tr>\n",
       "    <tr>\n",
       "      <th>50</th>\n",
       "      <td>56</td>\n",
       "      <td>Pulp Fiction</td>\n",
       "      <td>1994</td>\n",
       "      <td>0.998243</td>\n",
       "      <td>01-Jan-1994</td>\n",
       "      <td>Crime Drama</td>\n",
       "      <td>Quentin Tarantino</td>\n",
       "      <td>John Travolta</td>\n",
       "      <td>Samuel L. Jackson</td>\n",
       "    </tr>\n",
       "    <tr>\n",
       "      <th>207</th>\n",
       "      <td>234</td>\n",
       "      <td>Jaws</td>\n",
       "      <td>1975</td>\n",
       "      <td>0.947717</td>\n",
       "      <td>01-Jan-1975</td>\n",
       "      <td>Action Horror</td>\n",
       "      <td>Steven Spielberg</td>\n",
       "      <td>Roy Scheider</td>\n",
       "      <td>Robert Shaw</td>\n",
       "    </tr>\n",
       "    <tr>\n",
       "      <th>5</th>\n",
       "      <td>7</td>\n",
       "      <td>Twelve Monkeys</td>\n",
       "      <td>1995</td>\n",
       "      <td>0.931755</td>\n",
       "      <td>01-Jan-1995</td>\n",
       "      <td>Drama Sci-Fi</td>\n",
       "      <td>Terry Gilliam</td>\n",
       "      <td>Bruce Willis</td>\n",
       "      <td>Madeleine Stowe</td>\n",
       "    </tr>\n",
       "    <tr>\n",
       "      <th>9</th>\n",
       "      <td>12</td>\n",
       "      <td>Usual Suspects, The</td>\n",
       "      <td>1995</td>\n",
       "      <td>0.925200</td>\n",
       "      <td>14-Aug-1995</td>\n",
       "      <td>Crime Thriller</td>\n",
       "      <td>Bryan Singer</td>\n",
       "      <td>Stephen Baldwin</td>\n",
       "      <td>Kevin Spacey</td>\n",
       "    </tr>\n",
       "    <tr>\n",
       "      <th>72</th>\n",
       "      <td>79</td>\n",
       "      <td>Fugitive, The</td>\n",
       "      <td>1993</td>\n",
       "      <td>0.924512</td>\n",
       "      <td>01-Jan-1993</td>\n",
       "      <td>Action Thriller</td>\n",
       "      <td>Andrew Davis</td>\n",
       "      <td>Harrison Ford</td>\n",
       "      <td>Tommy Lee Jones</td>\n",
       "    </tr>\n",
       "    <tr>\n",
       "      <th>191</th>\n",
       "      <td>218</td>\n",
       "      <td>Cape Fear</td>\n",
       "      <td>1991</td>\n",
       "      <td>0.914609</td>\n",
       "      <td>01-Jan-1991</td>\n",
       "      <td>Thriller</td>\n",
       "      <td>Martin Scorsese</td>\n",
       "      <td>Robert De Niro</td>\n",
       "      <td>Nick Nolte</td>\n",
       "    </tr>\n",
       "    <tr>\n",
       "      <th>176</th>\n",
       "      <td>200</td>\n",
       "      <td>Shining, The</td>\n",
       "      <td>1980</td>\n",
       "      <td>0.895197</td>\n",
       "      <td>01-Jan-1980</td>\n",
       "      <td>Horror</td>\n",
       "      <td>Stanley Kubrick</td>\n",
       "      <td>Jack Nicholson</td>\n",
       "      <td>Shelley Duvall</td>\n",
       "    </tr>\n",
       "    <tr>\n",
       "      <th>163</th>\n",
       "      <td>185</td>\n",
       "      <td>Psycho</td>\n",
       "      <td>1960</td>\n",
       "      <td>0.893032</td>\n",
       "      <td>01-Jan-1960</td>\n",
       "      <td>Horror Romance Thriller</td>\n",
       "      <td>Alfred Hitchcock</td>\n",
       "      <td>Anthony Perkins</td>\n",
       "      <td>Janet Leigh</td>\n",
       "    </tr>\n",
       "    <tr>\n",
       "      <th>410</th>\n",
       "      <td>447</td>\n",
       "      <td>Carrie</td>\n",
       "      <td>1976</td>\n",
       "      <td>0.876994</td>\n",
       "      <td>01-Jan-1976</td>\n",
       "      <td>Horror</td>\n",
       "      <td>Brian De Palma</td>\n",
       "      <td>Sissy Spacek</td>\n",
       "      <td>John Travolta</td>\n",
       "    </tr>\n",
       "  </tbody>\n",
       "</table>\n",
       "</div>"
      ],
      "text/plain": [
       "     movie_id           movie_title  year  Generated Score release_date_x  \\\n",
       "88        100                Fargo   1997         0.998510    14-Feb-1997   \n",
       "50         56         Pulp Fiction   1994         0.998243    01-Jan-1994   \n",
       "207       234                 Jaws   1975         0.947717    01-Jan-1975   \n",
       "5           7       Twelve Monkeys   1995         0.931755    01-Jan-1995   \n",
       "9          12  Usual Suspects, The   1995         0.925200    14-Aug-1995   \n",
       "72         79        Fugitive, The   1993         0.924512    01-Jan-1993   \n",
       "191       218            Cape Fear   1991         0.914609    01-Jan-1991   \n",
       "176       200         Shining, The   1980         0.895197    01-Jan-1980   \n",
       "163       185               Psycho   1960         0.893032    01-Jan-1960   \n",
       "410       447               Carrie   1976         0.876994    01-Jan-1976   \n",
       "\n",
       "                       genre           director           actor1  \\\n",
       "88      Crime Drama Thriller          Joel Coen  William H. Macy   \n",
       "50               Crime Drama  Quentin Tarantino    John Travolta   \n",
       "207            Action Horror   Steven Spielberg     Roy Scheider   \n",
       "5               Drama Sci-Fi      Terry Gilliam     Bruce Willis   \n",
       "9             Crime Thriller       Bryan Singer  Stephen Baldwin   \n",
       "72           Action Thriller       Andrew Davis    Harrison Ford   \n",
       "191                 Thriller    Martin Scorsese   Robert De Niro   \n",
       "176                   Horror    Stanley Kubrick   Jack Nicholson   \n",
       "163  Horror Romance Thriller   Alfred Hitchcock  Anthony Perkins   \n",
       "410                   Horror     Brian De Palma     Sissy Spacek   \n",
       "\n",
       "                actor2  \n",
       "88   Frances McDormand  \n",
       "50   Samuel L. Jackson  \n",
       "207        Robert Shaw  \n",
       "5      Madeleine Stowe  \n",
       "9         Kevin Spacey  \n",
       "72     Tommy Lee Jones  \n",
       "191         Nick Nolte  \n",
       "176     Shelley Duvall  \n",
       "163        Janet Leigh  \n",
       "410      John Travolta  "
      ]
     },
     "execution_count": 14,
     "metadata": {},
     "output_type": "execute_result"
    }
   ],
   "source": [
    "# Sort the recommendations based on score. Display top 10.\n",
    "copy_item_df = item_df\n",
    "copy_item_df[\"Generated Score\"] = reconstruction[0]\n",
    "copy_item_df.sort_values([\"Generated Score\"], ascending=False).head(10)\n",
    "\n",
    "# Merging copy_item_df with ratings_df by item_id\n",
    "merged_item_df = copy_item_df.merge(df_of_his_watched_movies, on='movie_id', how='outer', indicator=True)\n",
    "merged_item_df = merged_item_df[merged_item_df['_merge'] == 'left_only'] #Choosing only not watched movies.\n",
    "# Dropping unnecessary columns\n",
    "merged_item_df= merged_item_df.iloc[:,[0,1,2,24]]\n",
    "\n",
    "print_merged_item_df = merged_item_df.merge(new_movie_df, on='movie_id', how='inner', indicator=True)\n",
    "print_merged_item_df = print_merged_item_df.iloc[:,[0,5,6,3,2,4,8,9,10]]\n",
    "print('List of movies suggested to watch: ')\n",
    "# The final recommendations\n",
    "print_merged_item_df.sort_values(['Generated Score'], ascending=False).head(10)"
   ]
  },
  {
   "cell_type": "markdown",
   "metadata": {},
   "source": [
    "##### User with ID 20 has watched more movies belonging to the horror genre. The majority of movies suggested by the model is also in this category."
   ]
  }
 ],
 "metadata": {
  "kernelspec": {
   "display_name": "Deep Learning",
   "language": "python",
   "name": "deepl"
  },
  "language_info": {
   "codemirror_mode": {
    "name": "ipython",
    "version": 3
   },
   "file_extension": ".py",
   "mimetype": "text/x-python",
   "name": "python",
   "nbconvert_exporter": "python",
   "pygments_lexer": "ipython3",
   "version": "3.5.4"
  }
 },
 "nbformat": 4,
 "nbformat_minor": 2
}
