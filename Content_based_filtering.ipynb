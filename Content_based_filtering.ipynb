{
 "cells": [
  {
   "cell_type": "code",
   "execution_count": 188,
   "metadata": {
    "collapsed": true
   },
   "outputs": [],
   "source": [
    "import numpy as np\n",
    "import pandas as pd"
   ]
  },
  {
   "cell_type": "code",
   "execution_count": 196,
   "metadata": {},
   "outputs": [],
   "source": [
    "df=pd.read_csv(\"ml-100k/item_cc_genre.csv\")"
   ]
  },
  {
   "cell_type": "code",
   "execution_count": 197,
   "metadata": {
    "collapsed": true
   },
   "outputs": [],
   "source": [
    "df['movie_title']=df['movie_title'].apply(lambda x:x.lower().strip())"
   ]
  },
  {
   "cell_type": "code",
   "execution_count": 198,
   "metadata": {},
   "outputs": [],
   "source": [
    "df['director']=df[\"director\"].astype(str)\n",
    "df['director']=df['director'].apply(lambda x: x.lower().replace(\" \",\"\"))\n"
   ]
  },
  {
   "cell_type": "code",
   "execution_count": 199,
   "metadata": {},
   "outputs": [],
   "source": [
    "df['actor1']=df[\"actor1\"].astype(str)\n",
    "df['actor1']=df['actor1'].apply(lambda x: x.lower().replace(\" \",\"\"))\n"
   ]
  },
  {
   "cell_type": "code",
   "execution_count": 200,
   "metadata": {
    "collapsed": true
   },
   "outputs": [],
   "source": [
    "df['actor2']=df[\"actor2\"].astype(str)\n",
    "df['actor2']=df['actor2'].apply(lambda x: x.lower().replace(\" \",\"\"))"
   ]
  },
  {
   "cell_type": "code",
   "execution_count": 201,
   "metadata": {},
   "outputs": [],
   "source": [
    "df['director'] = df['director'].apply(lambda x: x+\" \"+x+\" \"+x )\n"
   ]
  },
  {
   "cell_type": "code",
   "execution_count": 202,
   "metadata": {
    "collapsed": true
   },
   "outputs": [],
   "source": [
    "df['year']=df['year'].astype(str)"
   ]
  },
  {
   "cell_type": "code",
   "execution_count": 203,
   "metadata": {},
   "outputs": [],
   "source": [
    "df['hybrid'] = df['director'] +\" \"+ df['actor1'] +\" \"+ df['actor2'] +\" \"+ df['genre']+\" \"+df['year']"
   ]
  },
  {
   "cell_type": "code",
   "execution_count": 204,
   "metadata": {},
   "outputs": [],
   "source": [
    "df['hybrid']=df['hybrid'].astype(str)"
   ]
  },
  {
   "cell_type": "code",
   "execution_count": null,
   "metadata": {},
   "outputs": [],
   "source": []
  },
  {
   "cell_type": "code",
   "execution_count": 205,
   "metadata": {
    "collapsed": true
   },
   "outputs": [],
   "source": [
    "%matplotlib inline\n",
    "import pandas as pd\n",
    "import numpy as np\n",
    "import matplotlib.pyplot as plt\n",
    "import seaborn as sns\n",
    "from scipy import stats\n",
    "from ast import literal_eval\n",
    "from sklearn.feature_extraction.text import TfidfVectorizer, CountVectorizer\n",
    "from sklearn.metrics.pairwise import linear_kernel, cosine_similarity\n",
    "from nltk.stem.snowball import SnowballStemmer\n",
    "from nltk.stem.wordnet import WordNetLemmatizer\n",
    "from nltk.corpus import wordnet"
   ]
  },
  {
   "cell_type": "code",
   "execution_count": 206,
   "metadata": {
    "collapsed": true
   },
   "outputs": [],
   "source": [
    "count = CountVectorizer(analyzer='word',ngram_range=(1, 2),min_df=0, stop_words='english')"
   ]
  },
  {
   "cell_type": "code",
   "execution_count": 207,
   "metadata": {},
   "outputs": [],
   "source": [
    "count_matrix = count.fit_transform(df['hybrid'])"
   ]
  },
  {
   "cell_type": "code",
   "execution_count": 208,
   "metadata": {
    "collapsed": true
   },
   "outputs": [],
   "source": [
    "cosine_sim = cosine_similarity(count_matrix, count_matrix)"
   ]
  },
  {
   "cell_type": "code",
   "execution_count": 209,
   "metadata": {},
   "outputs": [],
   "source": [
    "# df = df.reset_index(drop=True, inplace=True)\n",
    "titles = df['movie_title']\n",
    "indices = pd.Series(df.index, index=df['movie_title'])\n",
    "# indices"
   ]
  },
  {
   "cell_type": "code",
   "execution_count": 210,
   "metadata": {
    "collapsed": true
   },
   "outputs": [],
   "source": [
    "def get_recommendations(title):\n",
    "    try:\n",
    "        title=title.lower().strip()\n",
    "        idx = indices[title]\n",
    "        print(idx)\n",
    "        sim_scores = list(enumerate(cosine_sim[idx]))\n",
    "        sim_scores = sorted(sim_scores, key=lambda x: x[1], reverse=True)\n",
    "        sim_scores = sim_scores[1:31]\n",
    "        movie_indices = [i[0] for i in sim_scores]\n",
    "        return titles.iloc[movie_indices].head(15)\n",
    "    except:\n",
    "        return \"movie not in the database\"\n",
    "    "
   ]
  },
  {
   "cell_type": "code",
   "execution_count": 214,
   "metadata": {},
   "outputs": [
    {
     "data": {
      "text/plain": [
       "'movie not in the database'"
      ]
     },
     "execution_count": 214,
     "metadata": {},
     "output_type": "execute_result"
    }
   ],
   "source": [
    "get_recommendations(\"The Dark Knight\")\n",
    "# indices['goldeneye']"
   ]
  },
  {
   "cell_type": "code",
   "execution_count": 212,
   "metadata": {},
   "outputs": [
    {
     "data": {
      "text/plain": [
       "0                                           toy story\n",
       "1                                           goldeneye\n",
       "2                                          four rooms\n",
       "3                                          get shorty\n",
       "4                                             copycat\n",
       "5       shanghai triad (yao a yao yao dao waipo qiao)\n",
       "6                                      twelve monkeys\n",
       "7                                                babe\n",
       "8                                    dead man walking\n",
       "9                                         richard iii\n",
       "10                                      seven (se7en)\n",
       "11                                usual suspects, the\n",
       "12                                   mighty aphrodite\n",
       "13                                        postino, il\n",
       "14                                 mr. holland's opus\n",
       "15                        french twist (gazon maudit)\n",
       "16                                from dusk till dawn\n",
       "17                                 white balloon, the\n",
       "18                                     antonia's line\n",
       "19                                 angels and insects\n",
       "20                             muppet treasure island\n",
       "21                                         braveheart\n",
       "22                                        taxi driver\n",
       "23                                rumble in the bronx\n",
       "24                                      birdcage, the\n",
       "25                             brothers mcmullen, the\n",
       "26                                           bad boys\n",
       "27                                          apollo 13\n",
       "28                                     batman forever\n",
       "29                                      belle de jour\n",
       "                            ...                      \n",
       "1651       entertaining angels: the dorothy day story\n",
       "1652                            chairman of the board\n",
       "1653                                       favor, the\n",
       "1654                                      little city\n",
       "1655                                           target\n",
       "1656                           substance of fire, the\n",
       "1657                         getting away with murder\n",
       "1658                                      small faces\n",
       "1659                                     new age, the\n",
       "1660                                      rough magic\n",
       "1661                                 nothing personal\n",
       "1662                          8 heads in a duffel bag\n",
       "1663                                brother's kiss, a\n",
       "1664                                             ripe\n",
       "1665                                   next step, the\n",
       "1666                               wedding bell blues\n",
       "1667                                murder and murder\n",
       "1668                                          tainted\n",
       "1669                               further gesture, a\n",
       "1670                                             kika\n",
       "1671                                           mirage\n",
       "1672                                       mamma roma\n",
       "1673                                   sunchaser, the\n",
       "1674                                 war at home, the\n",
       "1675                                    sweet nothing\n",
       "1676                                       mat' i syn\n",
       "1677                                        b. monkey\n",
       "1678                                    sliding doors\n",
       "1679                                     you so crazy\n",
       "1680               scream of stone (schrei aus stein)\n",
       "Name: movie_title, Length: 1681, dtype: object"
      ]
     },
     "execution_count": 212,
     "metadata": {},
     "output_type": "execute_result"
    }
   ],
   "source": [
    "df['movie_title']"
   ]
  },
  {
   "cell_type": "code",
   "execution_count": null,
   "metadata": {
    "collapsed": true
   },
   "outputs": [],
   "source": []
  },
  {
   "cell_type": "code",
   "execution_count": null,
   "metadata": {
    "collapsed": true
   },
   "outputs": [],
   "source": []
  },
  {
   "cell_type": "code",
   "execution_count": null,
   "metadata": {
    "collapsed": true
   },
   "outputs": [],
   "source": []
  },
  {
   "cell_type": "code",
   "execution_count": null,
   "metadata": {
    "collapsed": true
   },
   "outputs": [],
   "source": []
  },
  {
   "cell_type": "code",
   "execution_count": null,
   "metadata": {
    "collapsed": true
   },
   "outputs": [],
   "source": []
  }
 ],
 "metadata": {
  "kernelspec": {
   "display_name": "Python 3",
   "language": "python",
   "name": "python3"
  },
  "language_info": {
   "codemirror_mode": {
    "name": "ipython",
    "version": 3
   },
   "file_extension": ".py",
   "mimetype": "text/x-python",
   "name": "python",
   "nbconvert_exporter": "python",
   "pygments_lexer": "ipython3",
   "version": "3.6.1"
  }
 },
 "nbformat": 4,
 "nbformat_minor": 2
}
