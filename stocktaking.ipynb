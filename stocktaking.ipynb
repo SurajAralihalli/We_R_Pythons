{
 "cells": [
  {
   "cell_type": "code",
   "execution_count": 1,
   "metadata": {},
   "outputs": [],
   "source": [
    "import pandas as pd\n",
    "import numpy as np\n",
    "data = pd.read_csv('/media/sumanthvrao/Personal/PESU/SEMESTER 5/DA/PROJECT/We_R_Pythons/DataSet/data.csv')\n",
    "item = pd.read_csv('/media/sumanthvrao/Personal/PESU/SEMESTER 5/DA/PROJECT/We_R_Pythons/DataSet/item.csv',encoding='windows-1252')\n",
    "user = pd.read_csv('/media/sumanthvrao/Personal/PESU/SEMESTER 5/DA/PROJECT/We_R_Pythons/DataSet/user.csv')\n",
    "genre = pd.read_csv('/media/sumanthvrao/Personal/PESU/SEMESTER 5/DA/PROJECT/We_R_Pythons/DataSet/genre.csv')\n",
    "occupation = pd.read_csv('/media/sumanthvrao/Personal/PESU/SEMESTER 5/DA/PROJECT/We_R_Pythons/DataSet/occupation.csv')"
   ]
  },
  {
   "cell_type": "code",
   "execution_count": 2,
   "metadata": {},
   "outputs": [
    {
     "name": "stdout",
     "output_type": "stream",
     "text": [
      "   user_id  item_id  rating  timestamp\n",
      "0      196      242       3  881250949\n",
      "1      186      302       3  891717742\n",
      "2       22      377       1  878887116\n",
      "3      244       51       2  880606923\n",
      "4      166      346       1  886397596\n",
      "----------------\n",
      "943\n"
     ]
    }
   ],
   "source": [
    "#number of unique users \n",
    "print(data.head())\n",
    "print(\"----------------\")\n",
    "print(data.T.apply(lambda x:x.nunique(),axis=1)[0])"
   ]
  },
  {
   "cell_type": "code",
   "execution_count": 3,
   "metadata": {},
   "outputs": [
    {
     "name": "stdout",
     "output_type": "stream",
     "text": [
      "19\n"
     ]
    }
   ],
   "source": [
    "#Mimium number of ratings given by a user is 19\n",
    "counts = data.groupby(['user_id']).agg(['count']).idxmin()[0]\n",
    "print(counts)"
   ]
  },
  {
   "cell_type": "code",
   "execution_count": 4,
   "metadata": {},
   "outputs": [
    {
     "name": "stdout",
     "output_type": "stream",
     "text": [
      "   movie_id       movie_title release_date  \\\n",
      "1         2  GoldenEye (1995)    01-Jan-95   \n",
      "\n",
      "                                  video_release_date  imdb_url  unknown  \\\n",
      "1  http://us.imdb.com/M/title-exact?GoldenEye%20(...         0        1   \n",
      "\n",
      "   Action  Adventure  Animation  Children's   ...     Fantasy  Film-Noir  \\\n",
      "1       1          0          0           0   ...           0          0   \n",
      "\n",
      "   Horror  Musical  Mystery  Romance  Sci-Fi  Thriller  War  Western  \n",
      "1       0        0        0        0       1       0.0  0.0      NaN  \n",
      "\n",
      "[1 rows x 24 columns]\n",
      "1682\n",
      "----------------\n",
      "1          Action\n",
      "2       Adventure\n",
      "3       Animation\n",
      "4      Children's\n",
      "5          Comedy\n",
      "6           Crime\n",
      "7     Documentary\n",
      "8           Drama\n",
      "9         Fantasy\n",
      "10      Film-Noir\n",
      "11         Horror\n",
      "12        Musical\n",
      "13        Mystery\n",
      "14        Romance\n",
      "15         Sci-Fi\n",
      "16       Thriller\n",
      "17            War\n",
      "18        Western\n",
      "Name: genre, dtype: object\n"
     ]
    }
   ],
   "source": [
    "#number of unique movies\n",
    "print(item[1:2]) #information about a single movie\n",
    "print(item.T.apply(lambda x:x.nunique(),axis=1)[0])\n",
    "print(\"----------------\")\n",
    "#genre of movies\n",
    "print(genre[1:][\"genre\"])"
   ]
  },
  {
   "cell_type": "code",
   "execution_count": 5,
   "metadata": {},
   "outputs": [
    {
     "name": "stdout",
     "output_type": "stream",
     "text": [
      "943\n",
      "----------------\n",
      "   user_id  age gender  occupation zip_code\n",
      "0        1   24      M  technician    85711\n",
      "1        2   53      F       other    94043\n",
      "2        3   23      M      writer    32067\n",
      "3        4   24      M  technician    43537\n",
      "4        5   33      F       other    15213\n"
     ]
    },
    {
     "data": {
      "text/html": [
       "<div>\n",
       "<style scoped>\n",
       "    .dataframe tbody tr th:only-of-type {\n",
       "        vertical-align: middle;\n",
       "    }\n",
       "\n",
       "    .dataframe tbody tr th {\n",
       "        vertical-align: top;\n",
       "    }\n",
       "\n",
       "    .dataframe thead th {\n",
       "        text-align: right;\n",
       "    }\n",
       "</style>\n",
       "<table border=\"1\" class=\"dataframe\">\n",
       "  <thead>\n",
       "    <tr style=\"text-align: right;\">\n",
       "      <th></th>\n",
       "      <th>count</th>\n",
       "    </tr>\n",
       "    <tr>\n",
       "      <th>gender</th>\n",
       "      <th></th>\n",
       "    </tr>\n",
       "  </thead>\n",
       "  <tbody>\n",
       "    <tr>\n",
       "      <th>F</th>\n",
       "      <td>273</td>\n",
       "    </tr>\n",
       "    <tr>\n",
       "      <th>M</th>\n",
       "      <td>670</td>\n",
       "    </tr>\n",
       "  </tbody>\n",
       "</table>\n",
       "</div>"
      ],
      "text/plain": [
       "        count\n",
       "gender       \n",
       "F         273\n",
       "M         670"
      ]
     },
     "execution_count": 5,
     "metadata": {},
     "output_type": "execute_result"
    }
   ],
   "source": [
    "#user information\n",
    "print(user.T.apply(lambda x:x.nunique(),axis=1)[0]) #verified to be 943 across datasets\n",
    "print(\"----------------\")\n",
    "print(user.head())\n",
    "user.groupby(['gender']).agg(['count'])[\"user_id\"]\n",
    "#273 females and 670 males"
   ]
  },
  {
   "cell_type": "code",
   "execution_count": 6,
   "metadata": {},
   "outputs": [
    {
     "name": "stdout",
     "output_type": "stream",
     "text": [
      "----------------\n"
     ]
    },
    {
     "data": {
      "text/html": [
       "<div>\n",
       "<style scoped>\n",
       "    .dataframe tbody tr th:only-of-type {\n",
       "        vertical-align: middle;\n",
       "    }\n",
       "\n",
       "    .dataframe tbody tr th {\n",
       "        vertical-align: top;\n",
       "    }\n",
       "\n",
       "    .dataframe thead th {\n",
       "        text-align: right;\n",
       "    }\n",
       "</style>\n",
       "<table border=\"1\" class=\"dataframe\">\n",
       "  <thead>\n",
       "    <tr style=\"text-align: right;\">\n",
       "      <th></th>\n",
       "      <th>count</th>\n",
       "    </tr>\n",
       "    <tr>\n",
       "      <th>occupation</th>\n",
       "      <th></th>\n",
       "    </tr>\n",
       "  </thead>\n",
       "  <tbody>\n",
       "    <tr>\n",
       "      <th>student</th>\n",
       "      <td>196</td>\n",
       "    </tr>\n",
       "    <tr>\n",
       "      <th>other</th>\n",
       "      <td>105</td>\n",
       "    </tr>\n",
       "    <tr>\n",
       "      <th>educator</th>\n",
       "      <td>95</td>\n",
       "    </tr>\n",
       "    <tr>\n",
       "      <th>administrator</th>\n",
       "      <td>79</td>\n",
       "    </tr>\n",
       "    <tr>\n",
       "      <th>engineer</th>\n",
       "      <td>67</td>\n",
       "    </tr>\n",
       "    <tr>\n",
       "      <th>programmer</th>\n",
       "      <td>66</td>\n",
       "    </tr>\n",
       "    <tr>\n",
       "      <th>librarian</th>\n",
       "      <td>51</td>\n",
       "    </tr>\n",
       "    <tr>\n",
       "      <th>writer</th>\n",
       "      <td>45</td>\n",
       "    </tr>\n",
       "    <tr>\n",
       "      <th>executive</th>\n",
       "      <td>32</td>\n",
       "    </tr>\n",
       "    <tr>\n",
       "      <th>scientist</th>\n",
       "      <td>31</td>\n",
       "    </tr>\n",
       "    <tr>\n",
       "      <th>artist</th>\n",
       "      <td>28</td>\n",
       "    </tr>\n",
       "    <tr>\n",
       "      <th>technician</th>\n",
       "      <td>27</td>\n",
       "    </tr>\n",
       "    <tr>\n",
       "      <th>marketing</th>\n",
       "      <td>26</td>\n",
       "    </tr>\n",
       "    <tr>\n",
       "      <th>entertainment</th>\n",
       "      <td>18</td>\n",
       "    </tr>\n",
       "    <tr>\n",
       "      <th>healthcare</th>\n",
       "      <td>16</td>\n",
       "    </tr>\n",
       "    <tr>\n",
       "      <th>retired</th>\n",
       "      <td>14</td>\n",
       "    </tr>\n",
       "    <tr>\n",
       "      <th>lawyer</th>\n",
       "      <td>12</td>\n",
       "    </tr>\n",
       "    <tr>\n",
       "      <th>salesman</th>\n",
       "      <td>12</td>\n",
       "    </tr>\n",
       "    <tr>\n",
       "      <th>none</th>\n",
       "      <td>9</td>\n",
       "    </tr>\n",
       "    <tr>\n",
       "      <th>homemaker</th>\n",
       "      <td>7</td>\n",
       "    </tr>\n",
       "    <tr>\n",
       "      <th>doctor</th>\n",
       "      <td>7</td>\n",
       "    </tr>\n",
       "  </tbody>\n",
       "</table>\n",
       "</div>"
      ],
      "text/plain": [
       "               count\n",
       "occupation          \n",
       "student          196\n",
       "other            105\n",
       "educator          95\n",
       "administrator     79\n",
       "engineer          67\n",
       "programmer        66\n",
       "librarian         51\n",
       "writer            45\n",
       "executive         32\n",
       "scientist         31\n",
       "artist            28\n",
       "technician        27\n",
       "marketing         26\n",
       "entertainment     18\n",
       "healthcare        16\n",
       "retired           14\n",
       "lawyer            12\n",
       "salesman          12\n",
       "none               9\n",
       "homemaker          7\n",
       "doctor             7"
      ]
     },
     "execution_count": 6,
     "metadata": {},
     "output_type": "execute_result"
    }
   ],
   "source": [
    "#mean age\n",
    "np.mean(user[\"age\"])\n",
    "print(\"----------------\")\n",
    "#occupation of the users \n",
    "user.groupby(['occupation']).agg(['count'])[\"user_id\"].sort_values('count',ascending=False)\n",
    "#clearly most number of student users"
   ]
  }
 ],
 "metadata": {
  "kernelspec": {
   "display_name": "Deep Learning",
   "language": "python",
   "name": "deepl"
  },
  "language_info": {
   "codemirror_mode": {
    "name": "ipython",
    "version": 3
   },
   "file_extension": ".py",
   "mimetype": "text/x-python",
   "name": "python",
   "nbconvert_exporter": "python",
   "pygments_lexer": "ipython3",
   "version": "3.5.4"
  }
 },
 "nbformat": 4,
 "nbformat_minor": 2
}
